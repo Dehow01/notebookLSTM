{
 "cells": [
  {
   "cell_type": "code",
   "execution_count": 1,
   "metadata": {},
   "outputs": [],
   "source": [
    "import pandas as pd\n",
    "import numpy as np\n",
    "import matplotlib.pyplot as plt\n",
    "import warnings\n",
    "warnings.filterwarnings('ignore')"
   ]
  },
  {
   "cell_type": "code",
   "execution_count": 2,
   "metadata": {},
   "outputs": [],
   "source": [
    "data_dir = './data/'"
   ]
  },
  {
   "cell_type": "code",
   "execution_count": 3,
   "metadata": {},
   "outputs": [
    {
     "name": "stdout",
     "output_type": "stream",
     "text": [
      "cuted_df.csv  online_retail_2.csv  online_retail.csv\n"
     ]
    }
   ],
   "source": [
    "!ls $data_dir"
   ]
  },
  {
   "cell_type": "code",
   "execution_count": 4,
   "metadata": {},
   "outputs": [
    {
     "name": "stdout",
     "output_type": "stream",
     "text": [
      "InvoiceNo,StockCode,Description,Quantity,InvoiceDate,UnitPrice,CustomerID,Country\n",
      "536365,85123A,WHITE HANGING HEART T-LIGHT HOLDER,6,12/1/2010 8:26,2.55,17850,United Kingdom\n",
      "536365,71053,WHITE METAL LANTERN,6,12/1/2010 8:26,3.39,17850,United Kingdom\n",
      "536365,84406B,CREAM CUPID HEARTS COAT HANGER,8,12/1/2010 8:26,2.75,17850,United Kingdom\n",
      "536365,84029G,KNITTED UNION FLAG HOT WATER BOTTLE,6,12/1/2010 8:26,3.39,17850,United Kingdom\n"
     ]
    }
   ],
   "source": [
    "!head -n5 $data_dir'online_retail.csv'"
   ]
  },
  {
   "cell_type": "code",
   "execution_count": 6,
   "metadata": {},
   "outputs": [],
   "source": [
    "df1 = pd.read_csv(data_dir + 'online_retail.csv', encoding='1251')\n",
    "df2 = pd.read_csv(data_dir + 'online_retail_2.csv')"
   ]
  },
  {
   "cell_type": "code",
   "execution_count": 7,
   "metadata": {},
   "outputs": [],
   "source": [
    "df2.rename(columns={'Price': 'UnitPrice', 'Customer ID': 'CustomerID', 'Invoice': 'InvoiceNo'}, inplace=True)"
   ]
  },
  {
   "cell_type": "code",
   "execution_count": 8,
   "metadata": {},
   "outputs": [
    {
     "data": {
      "text/html": [
       "<div>\n",
       "<style scoped>\n",
       "    .dataframe tbody tr th:only-of-type {\n",
       "        vertical-align: middle;\n",
       "    }\n",
       "\n",
       "    .dataframe tbody tr th {\n",
       "        vertical-align: top;\n",
       "    }\n",
       "\n",
       "    .dataframe thead th {\n",
       "        text-align: right;\n",
       "    }\n",
       "</style>\n",
       "<table border=\"1\" class=\"dataframe\">\n",
       "  <thead>\n",
       "    <tr style=\"text-align: right;\">\n",
       "      <th></th>\n",
       "      <th>InvoiceNo</th>\n",
       "      <th>StockCode</th>\n",
       "      <th>Description</th>\n",
       "      <th>Quantity</th>\n",
       "      <th>InvoiceDate</th>\n",
       "      <th>UnitPrice</th>\n",
       "      <th>CustomerID</th>\n",
       "      <th>Country</th>\n",
       "    </tr>\n",
       "  </thead>\n",
       "  <tbody>\n",
       "    <tr>\n",
       "      <th>0</th>\n",
       "      <td>536365</td>\n",
       "      <td>85123A</td>\n",
       "      <td>WHITE HANGING HEART T-LIGHT HOLDER</td>\n",
       "      <td>6</td>\n",
       "      <td>12/1/2010 8:26</td>\n",
       "      <td>2.55</td>\n",
       "      <td>17850.0</td>\n",
       "      <td>United Kingdom</td>\n",
       "    </tr>\n",
       "    <tr>\n",
       "      <th>1</th>\n",
       "      <td>536365</td>\n",
       "      <td>71053</td>\n",
       "      <td>WHITE METAL LANTERN</td>\n",
       "      <td>6</td>\n",
       "      <td>12/1/2010 8:26</td>\n",
       "      <td>3.39</td>\n",
       "      <td>17850.0</td>\n",
       "      <td>United Kingdom</td>\n",
       "    </tr>\n",
       "    <tr>\n",
       "      <th>2</th>\n",
       "      <td>536365</td>\n",
       "      <td>84406B</td>\n",
       "      <td>CREAM CUPID HEARTS COAT HANGER</td>\n",
       "      <td>8</td>\n",
       "      <td>12/1/2010 8:26</td>\n",
       "      <td>2.75</td>\n",
       "      <td>17850.0</td>\n",
       "      <td>United Kingdom</td>\n",
       "    </tr>\n",
       "    <tr>\n",
       "      <th>3</th>\n",
       "      <td>536365</td>\n",
       "      <td>84029G</td>\n",
       "      <td>KNITTED UNION FLAG HOT WATER BOTTLE</td>\n",
       "      <td>6</td>\n",
       "      <td>12/1/2010 8:26</td>\n",
       "      <td>3.39</td>\n",
       "      <td>17850.0</td>\n",
       "      <td>United Kingdom</td>\n",
       "    </tr>\n",
       "    <tr>\n",
       "      <th>4</th>\n",
       "      <td>536365</td>\n",
       "      <td>84029E</td>\n",
       "      <td>RED WOOLLY HOTTIE WHITE HEART.</td>\n",
       "      <td>6</td>\n",
       "      <td>12/1/2010 8:26</td>\n",
       "      <td>3.39</td>\n",
       "      <td>17850.0</td>\n",
       "      <td>United Kingdom</td>\n",
       "    </tr>\n",
       "  </tbody>\n",
       "</table>\n",
       "</div>"
      ],
      "text/plain": [
       "  InvoiceNo StockCode                          Description  Quantity  \\\n",
       "0    536365    85123A   WHITE HANGING HEART T-LIGHT HOLDER         6   \n",
       "1    536365     71053                  WHITE METAL LANTERN         6   \n",
       "2    536365    84406B       CREAM CUPID HEARTS COAT HANGER         8   \n",
       "3    536365    84029G  KNITTED UNION FLAG HOT WATER BOTTLE         6   \n",
       "4    536365    84029E       RED WOOLLY HOTTIE WHITE HEART.         6   \n",
       "\n",
       "      InvoiceDate  UnitPrice  CustomerID         Country  \n",
       "0  12/1/2010 8:26       2.55     17850.0  United Kingdom  \n",
       "1  12/1/2010 8:26       3.39     17850.0  United Kingdom  \n",
       "2  12/1/2010 8:26       2.75     17850.0  United Kingdom  \n",
       "3  12/1/2010 8:26       3.39     17850.0  United Kingdom  \n",
       "4  12/1/2010 8:26       3.39     17850.0  United Kingdom  "
      ]
     },
     "execution_count": 8,
     "metadata": {},
     "output_type": "execute_result"
    }
   ],
   "source": [
    "df1.head()"
   ]
  },
  {
   "cell_type": "code",
   "execution_count": 9,
   "metadata": {},
   "outputs": [
    {
     "data": {
      "text/html": [
       "<div>\n",
       "<style scoped>\n",
       "    .dataframe tbody tr th:only-of-type {\n",
       "        vertical-align: middle;\n",
       "    }\n",
       "\n",
       "    .dataframe tbody tr th {\n",
       "        vertical-align: top;\n",
       "    }\n",
       "\n",
       "    .dataframe thead th {\n",
       "        text-align: right;\n",
       "    }\n",
       "</style>\n",
       "<table border=\"1\" class=\"dataframe\">\n",
       "  <thead>\n",
       "    <tr style=\"text-align: right;\">\n",
       "      <th></th>\n",
       "      <th>InvoiceNo</th>\n",
       "      <th>StockCode</th>\n",
       "      <th>Description</th>\n",
       "      <th>Quantity</th>\n",
       "      <th>InvoiceDate</th>\n",
       "      <th>UnitPrice</th>\n",
       "      <th>CustomerID</th>\n",
       "      <th>Country</th>\n",
       "    </tr>\n",
       "  </thead>\n",
       "  <tbody>\n",
       "    <tr>\n",
       "      <th>0</th>\n",
       "      <td>489434</td>\n",
       "      <td>85048</td>\n",
       "      <td>15CM CHRISTMAS GLASS BALL 20 LIGHTS</td>\n",
       "      <td>12</td>\n",
       "      <td>2009-12-01 07:45:00</td>\n",
       "      <td>6.95</td>\n",
       "      <td>13085.0</td>\n",
       "      <td>United Kingdom</td>\n",
       "    </tr>\n",
       "    <tr>\n",
       "      <th>1</th>\n",
       "      <td>489434</td>\n",
       "      <td>79323P</td>\n",
       "      <td>PINK CHERRY LIGHTS</td>\n",
       "      <td>12</td>\n",
       "      <td>2009-12-01 07:45:00</td>\n",
       "      <td>6.75</td>\n",
       "      <td>13085.0</td>\n",
       "      <td>United Kingdom</td>\n",
       "    </tr>\n",
       "    <tr>\n",
       "      <th>2</th>\n",
       "      <td>489434</td>\n",
       "      <td>79323W</td>\n",
       "      <td>WHITE CHERRY LIGHTS</td>\n",
       "      <td>12</td>\n",
       "      <td>2009-12-01 07:45:00</td>\n",
       "      <td>6.75</td>\n",
       "      <td>13085.0</td>\n",
       "      <td>United Kingdom</td>\n",
       "    </tr>\n",
       "    <tr>\n",
       "      <th>3</th>\n",
       "      <td>489434</td>\n",
       "      <td>22041</td>\n",
       "      <td>RECORD FRAME 7\" SINGLE SIZE</td>\n",
       "      <td>48</td>\n",
       "      <td>2009-12-01 07:45:00</td>\n",
       "      <td>2.10</td>\n",
       "      <td>13085.0</td>\n",
       "      <td>United Kingdom</td>\n",
       "    </tr>\n",
       "    <tr>\n",
       "      <th>4</th>\n",
       "      <td>489434</td>\n",
       "      <td>21232</td>\n",
       "      <td>STRAWBERRY CERAMIC TRINKET BOX</td>\n",
       "      <td>24</td>\n",
       "      <td>2009-12-01 07:45:00</td>\n",
       "      <td>1.25</td>\n",
       "      <td>13085.0</td>\n",
       "      <td>United Kingdom</td>\n",
       "    </tr>\n",
       "  </tbody>\n",
       "</table>\n",
       "</div>"
      ],
      "text/plain": [
       "  InvoiceNo StockCode                          Description  Quantity  \\\n",
       "0    489434     85048  15CM CHRISTMAS GLASS BALL 20 LIGHTS        12   \n",
       "1    489434    79323P                   PINK CHERRY LIGHTS        12   \n",
       "2    489434    79323W                  WHITE CHERRY LIGHTS        12   \n",
       "3    489434     22041         RECORD FRAME 7\" SINGLE SIZE         48   \n",
       "4    489434     21232       STRAWBERRY CERAMIC TRINKET BOX        24   \n",
       "\n",
       "           InvoiceDate  UnitPrice  CustomerID         Country  \n",
       "0  2009-12-01 07:45:00       6.95     13085.0  United Kingdom  \n",
       "1  2009-12-01 07:45:00       6.75     13085.0  United Kingdom  \n",
       "2  2009-12-01 07:45:00       6.75     13085.0  United Kingdom  \n",
       "3  2009-12-01 07:45:00       2.10     13085.0  United Kingdom  \n",
       "4  2009-12-01 07:45:00       1.25     13085.0  United Kingdom  "
      ]
     },
     "execution_count": 9,
     "metadata": {},
     "output_type": "execute_result"
    }
   ],
   "source": [
    "df2.head()"
   ]
  },
  {
   "cell_type": "code",
   "execution_count": 10,
   "metadata": {},
   "outputs": [],
   "source": [
    "df = pd.concat([df1, df2])\n",
    "del df1, df2"
   ]
  },
  {
   "cell_type": "code",
   "execution_count": 11,
   "metadata": {},
   "outputs": [
    {
     "data": {
      "text/html": [
       "<div>\n",
       "<style scoped>\n",
       "    .dataframe tbody tr th:only-of-type {\n",
       "        vertical-align: middle;\n",
       "    }\n",
       "\n",
       "    .dataframe tbody tr th {\n",
       "        vertical-align: top;\n",
       "    }\n",
       "\n",
       "    .dataframe thead th {\n",
       "        text-align: right;\n",
       "    }\n",
       "</style>\n",
       "<table border=\"1\" class=\"dataframe\">\n",
       "  <thead>\n",
       "    <tr style=\"text-align: right;\">\n",
       "      <th></th>\n",
       "      <th>InvoiceNo</th>\n",
       "      <th>StockCode</th>\n",
       "      <th>Description</th>\n",
       "      <th>Quantity</th>\n",
       "      <th>InvoiceDate</th>\n",
       "      <th>UnitPrice</th>\n",
       "      <th>CustomerID</th>\n",
       "      <th>Country</th>\n",
       "    </tr>\n",
       "  </thead>\n",
       "  <tbody>\n",
       "    <tr>\n",
       "      <th>622</th>\n",
       "      <td>536414</td>\n",
       "      <td>22139</td>\n",
       "      <td>NaN</td>\n",
       "      <td>56</td>\n",
       "      <td>12/1/2010 11:52</td>\n",
       "      <td>0.00</td>\n",
       "      <td>NaN</td>\n",
       "      <td>United Kingdom</td>\n",
       "    </tr>\n",
       "    <tr>\n",
       "      <th>1443</th>\n",
       "      <td>536544</td>\n",
       "      <td>21773</td>\n",
       "      <td>DECORATIVE ROSE BATHROOM BOTTLE</td>\n",
       "      <td>1</td>\n",
       "      <td>12/1/2010 14:32</td>\n",
       "      <td>2.51</td>\n",
       "      <td>NaN</td>\n",
       "      <td>United Kingdom</td>\n",
       "    </tr>\n",
       "    <tr>\n",
       "      <th>1444</th>\n",
       "      <td>536544</td>\n",
       "      <td>21774</td>\n",
       "      <td>DECORATIVE CATS BATHROOM BOTTLE</td>\n",
       "      <td>2</td>\n",
       "      <td>12/1/2010 14:32</td>\n",
       "      <td>2.51</td>\n",
       "      <td>NaN</td>\n",
       "      <td>United Kingdom</td>\n",
       "    </tr>\n",
       "    <tr>\n",
       "      <th>1445</th>\n",
       "      <td>536544</td>\n",
       "      <td>21786</td>\n",
       "      <td>POLKADOT RAIN HAT</td>\n",
       "      <td>4</td>\n",
       "      <td>12/1/2010 14:32</td>\n",
       "      <td>0.85</td>\n",
       "      <td>NaN</td>\n",
       "      <td>United Kingdom</td>\n",
       "    </tr>\n",
       "    <tr>\n",
       "      <th>1446</th>\n",
       "      <td>536544</td>\n",
       "      <td>21787</td>\n",
       "      <td>RAIN PONCHO RETROSPOT</td>\n",
       "      <td>2</td>\n",
       "      <td>12/1/2010 14:32</td>\n",
       "      <td>1.66</td>\n",
       "      <td>NaN</td>\n",
       "      <td>United Kingdom</td>\n",
       "    </tr>\n",
       "    <tr>\n",
       "      <th>...</th>\n",
       "      <td>...</td>\n",
       "      <td>...</td>\n",
       "      <td>...</td>\n",
       "      <td>...</td>\n",
       "      <td>...</td>\n",
       "      <td>...</td>\n",
       "      <td>...</td>\n",
       "      <td>...</td>\n",
       "    </tr>\n",
       "    <tr>\n",
       "      <th>1066997</th>\n",
       "      <td>581498</td>\n",
       "      <td>85099B</td>\n",
       "      <td>JUMBO BAG RED RETROSPOT</td>\n",
       "      <td>5</td>\n",
       "      <td>2011-12-09 10:26:00</td>\n",
       "      <td>4.13</td>\n",
       "      <td>NaN</td>\n",
       "      <td>United Kingdom</td>\n",
       "    </tr>\n",
       "    <tr>\n",
       "      <th>1066998</th>\n",
       "      <td>581498</td>\n",
       "      <td>85099C</td>\n",
       "      <td>JUMBO  BAG BAROQUE BLACK WHITE</td>\n",
       "      <td>4</td>\n",
       "      <td>2011-12-09 10:26:00</td>\n",
       "      <td>4.13</td>\n",
       "      <td>NaN</td>\n",
       "      <td>United Kingdom</td>\n",
       "    </tr>\n",
       "    <tr>\n",
       "      <th>1066999</th>\n",
       "      <td>581498</td>\n",
       "      <td>85150</td>\n",
       "      <td>LADIES &amp; GENTLEMEN METAL SIGN</td>\n",
       "      <td>1</td>\n",
       "      <td>2011-12-09 10:26:00</td>\n",
       "      <td>4.96</td>\n",
       "      <td>NaN</td>\n",
       "      <td>United Kingdom</td>\n",
       "    </tr>\n",
       "    <tr>\n",
       "      <th>1067000</th>\n",
       "      <td>581498</td>\n",
       "      <td>85174</td>\n",
       "      <td>S/4 CACTI CANDLES</td>\n",
       "      <td>1</td>\n",
       "      <td>2011-12-09 10:26:00</td>\n",
       "      <td>10.79</td>\n",
       "      <td>NaN</td>\n",
       "      <td>United Kingdom</td>\n",
       "    </tr>\n",
       "    <tr>\n",
       "      <th>1067001</th>\n",
       "      <td>581498</td>\n",
       "      <td>DOT</td>\n",
       "      <td>DOTCOM POSTAGE</td>\n",
       "      <td>1</td>\n",
       "      <td>2011-12-09 10:26:00</td>\n",
       "      <td>1714.17</td>\n",
       "      <td>NaN</td>\n",
       "      <td>United Kingdom</td>\n",
       "    </tr>\n",
       "  </tbody>\n",
       "</table>\n",
       "<p>378087 rows × 8 columns</p>\n",
       "</div>"
      ],
      "text/plain": [
       "        InvoiceNo StockCode                      Description  Quantity  \\\n",
       "622        536414     22139                              NaN        56   \n",
       "1443       536544     21773  DECORATIVE ROSE BATHROOM BOTTLE         1   \n",
       "1444       536544     21774  DECORATIVE CATS BATHROOM BOTTLE         2   \n",
       "1445       536544     21786               POLKADOT RAIN HAT          4   \n",
       "1446       536544     21787            RAIN PONCHO RETROSPOT         2   \n",
       "...           ...       ...                              ...       ...   \n",
       "1066997    581498    85099B          JUMBO BAG RED RETROSPOT         5   \n",
       "1066998    581498    85099C   JUMBO  BAG BAROQUE BLACK WHITE         4   \n",
       "1066999    581498     85150    LADIES & GENTLEMEN METAL SIGN         1   \n",
       "1067000    581498     85174                S/4 CACTI CANDLES         1   \n",
       "1067001    581498       DOT                   DOTCOM POSTAGE         1   \n",
       "\n",
       "                 InvoiceDate  UnitPrice  CustomerID         Country  \n",
       "622          12/1/2010 11:52       0.00         NaN  United Kingdom  \n",
       "1443         12/1/2010 14:32       2.51         NaN  United Kingdom  \n",
       "1444         12/1/2010 14:32       2.51         NaN  United Kingdom  \n",
       "1445         12/1/2010 14:32       0.85         NaN  United Kingdom  \n",
       "1446         12/1/2010 14:32       1.66         NaN  United Kingdom  \n",
       "...                      ...        ...         ...             ...  \n",
       "1066997  2011-12-09 10:26:00       4.13         NaN  United Kingdom  \n",
       "1066998  2011-12-09 10:26:00       4.13         NaN  United Kingdom  \n",
       "1066999  2011-12-09 10:26:00       4.96         NaN  United Kingdom  \n",
       "1067000  2011-12-09 10:26:00      10.79         NaN  United Kingdom  \n",
       "1067001  2011-12-09 10:26:00    1714.17         NaN  United Kingdom  \n",
       "\n",
       "[378087 rows x 8 columns]"
      ]
     },
     "execution_count": 11,
     "metadata": {},
     "output_type": "execute_result"
    }
   ],
   "source": [
    "df[df['CustomerID'].isna()]"
   ]
  },
  {
   "cell_type": "code",
   "execution_count": 12,
   "metadata": {},
   "outputs": [
    {
     "data": {
      "text/html": [
       "<div>\n",
       "<style scoped>\n",
       "    .dataframe tbody tr th:only-of-type {\n",
       "        vertical-align: middle;\n",
       "    }\n",
       "\n",
       "    .dataframe tbody tr th {\n",
       "        vertical-align: top;\n",
       "    }\n",
       "\n",
       "    .dataframe thead th {\n",
       "        text-align: right;\n",
       "    }\n",
       "</style>\n",
       "<table border=\"1\" class=\"dataframe\">\n",
       "  <thead>\n",
       "    <tr style=\"text-align: right;\">\n",
       "      <th>Country</th>\n",
       "      <th>Australia</th>\n",
       "      <th>Austria</th>\n",
       "      <th>Bahrain</th>\n",
       "      <th>Belgium</th>\n",
       "      <th>Bermuda</th>\n",
       "      <th>Brazil</th>\n",
       "      <th>Canada</th>\n",
       "      <th>Channel Islands</th>\n",
       "      <th>Cyprus</th>\n",
       "      <th>Czech Republic</th>\n",
       "      <th>...</th>\n",
       "      <th>Singapore</th>\n",
       "      <th>Spain</th>\n",
       "      <th>Sweden</th>\n",
       "      <th>Switzerland</th>\n",
       "      <th>Thailand</th>\n",
       "      <th>USA</th>\n",
       "      <th>United Arab Emirates</th>\n",
       "      <th>United Kingdom</th>\n",
       "      <th>Unspecified</th>\n",
       "      <th>West Indies</th>\n",
       "    </tr>\n",
       "  </thead>\n",
       "  <tbody>\n",
       "    <tr>\n",
       "      <th>InvoiceNo</th>\n",
       "      <td>3172</td>\n",
       "      <td>1339</td>\n",
       "      <td>145</td>\n",
       "      <td>5192</td>\n",
       "      <td>34</td>\n",
       "      <td>126</td>\n",
       "      <td>379</td>\n",
       "      <td>2422</td>\n",
       "      <td>1798</td>\n",
       "      <td>60</td>\n",
       "      <td>...</td>\n",
       "      <td>575</td>\n",
       "      <td>6344</td>\n",
       "      <td>1826</td>\n",
       "      <td>5191</td>\n",
       "      <td>76</td>\n",
       "      <td>826</td>\n",
       "      <td>568</td>\n",
       "      <td>1476808</td>\n",
       "      <td>1202</td>\n",
       "      <td>54</td>\n",
       "    </tr>\n",
       "    <tr>\n",
       "      <th>StockCode</th>\n",
       "      <td>3172</td>\n",
       "      <td>1339</td>\n",
       "      <td>145</td>\n",
       "      <td>5192</td>\n",
       "      <td>34</td>\n",
       "      <td>126</td>\n",
       "      <td>379</td>\n",
       "      <td>2422</td>\n",
       "      <td>1798</td>\n",
       "      <td>60</td>\n",
       "      <td>...</td>\n",
       "      <td>575</td>\n",
       "      <td>6344</td>\n",
       "      <td>1826</td>\n",
       "      <td>5191</td>\n",
       "      <td>76</td>\n",
       "      <td>826</td>\n",
       "      <td>568</td>\n",
       "      <td>1476808</td>\n",
       "      <td>1202</td>\n",
       "      <td>54</td>\n",
       "    </tr>\n",
       "    <tr>\n",
       "      <th>Description</th>\n",
       "      <td>3172</td>\n",
       "      <td>1339</td>\n",
       "      <td>145</td>\n",
       "      <td>5192</td>\n",
       "      <td>34</td>\n",
       "      <td>126</td>\n",
       "      <td>379</td>\n",
       "      <td>2422</td>\n",
       "      <td>1798</td>\n",
       "      <td>60</td>\n",
       "      <td>...</td>\n",
       "      <td>575</td>\n",
       "      <td>6344</td>\n",
       "      <td>1826</td>\n",
       "      <td>5191</td>\n",
       "      <td>76</td>\n",
       "      <td>826</td>\n",
       "      <td>568</td>\n",
       "      <td>1470972</td>\n",
       "      <td>1202</td>\n",
       "      <td>54</td>\n",
       "    </tr>\n",
       "    <tr>\n",
       "      <th>Quantity</th>\n",
       "      <td>3172</td>\n",
       "      <td>1339</td>\n",
       "      <td>145</td>\n",
       "      <td>5192</td>\n",
       "      <td>34</td>\n",
       "      <td>126</td>\n",
       "      <td>379</td>\n",
       "      <td>2422</td>\n",
       "      <td>1798</td>\n",
       "      <td>60</td>\n",
       "      <td>...</td>\n",
       "      <td>575</td>\n",
       "      <td>6344</td>\n",
       "      <td>1826</td>\n",
       "      <td>5191</td>\n",
       "      <td>76</td>\n",
       "      <td>826</td>\n",
       "      <td>568</td>\n",
       "      <td>1476808</td>\n",
       "      <td>1202</td>\n",
       "      <td>54</td>\n",
       "    </tr>\n",
       "    <tr>\n",
       "      <th>InvoiceDate</th>\n",
       "      <td>3172</td>\n",
       "      <td>1339</td>\n",
       "      <td>145</td>\n",
       "      <td>5192</td>\n",
       "      <td>34</td>\n",
       "      <td>126</td>\n",
       "      <td>379</td>\n",
       "      <td>2422</td>\n",
       "      <td>1798</td>\n",
       "      <td>60</td>\n",
       "      <td>...</td>\n",
       "      <td>575</td>\n",
       "      <td>6344</td>\n",
       "      <td>1826</td>\n",
       "      <td>5191</td>\n",
       "      <td>76</td>\n",
       "      <td>826</td>\n",
       "      <td>568</td>\n",
       "      <td>1476808</td>\n",
       "      <td>1202</td>\n",
       "      <td>54</td>\n",
       "    </tr>\n",
       "    <tr>\n",
       "      <th>UnitPrice</th>\n",
       "      <td>3172</td>\n",
       "      <td>1339</td>\n",
       "      <td>145</td>\n",
       "      <td>5192</td>\n",
       "      <td>34</td>\n",
       "      <td>126</td>\n",
       "      <td>379</td>\n",
       "      <td>2422</td>\n",
       "      <td>1798</td>\n",
       "      <td>60</td>\n",
       "      <td>...</td>\n",
       "      <td>575</td>\n",
       "      <td>6344</td>\n",
       "      <td>1826</td>\n",
       "      <td>5191</td>\n",
       "      <td>76</td>\n",
       "      <td>826</td>\n",
       "      <td>568</td>\n",
       "      <td>1476808</td>\n",
       "      <td>1202</td>\n",
       "      <td>54</td>\n",
       "    </tr>\n",
       "    <tr>\n",
       "      <th>CustomerID</th>\n",
       "      <td>3172</td>\n",
       "      <td>1339</td>\n",
       "      <td>76</td>\n",
       "      <td>5192</td>\n",
       "      <td>0</td>\n",
       "      <td>126</td>\n",
       "      <td>379</td>\n",
       "      <td>2422</td>\n",
       "      <td>1798</td>\n",
       "      <td>60</td>\n",
       "      <td>...</td>\n",
       "      <td>575</td>\n",
       "      <td>6344</td>\n",
       "      <td>1807</td>\n",
       "      <td>4941</td>\n",
       "      <td>76</td>\n",
       "      <td>826</td>\n",
       "      <td>454</td>\n",
       "      <td>1103179</td>\n",
       "      <td>768</td>\n",
       "      <td>54</td>\n",
       "    </tr>\n",
       "  </tbody>\n",
       "</table>\n",
       "<p>7 rows × 43 columns</p>\n",
       "</div>"
      ],
      "text/plain": [
       "Country      Australia  Austria  Bahrain  Belgium  Bermuda  Brazil  Canada  \\\n",
       "InvoiceNo         3172     1339      145     5192       34     126     379   \n",
       "StockCode         3172     1339      145     5192       34     126     379   \n",
       "Description       3172     1339      145     5192       34     126     379   \n",
       "Quantity          3172     1339      145     5192       34     126     379   \n",
       "InvoiceDate       3172     1339      145     5192       34     126     379   \n",
       "UnitPrice         3172     1339      145     5192       34     126     379   \n",
       "CustomerID        3172     1339       76     5192        0     126     379   \n",
       "\n",
       "Country      Channel Islands  Cyprus  Czech Republic  ...  Singapore  Spain  \\\n",
       "InvoiceNo               2422    1798              60  ...        575   6344   \n",
       "StockCode               2422    1798              60  ...        575   6344   \n",
       "Description             2422    1798              60  ...        575   6344   \n",
       "Quantity                2422    1798              60  ...        575   6344   \n",
       "InvoiceDate             2422    1798              60  ...        575   6344   \n",
       "UnitPrice               2422    1798              60  ...        575   6344   \n",
       "CustomerID              2422    1798              60  ...        575   6344   \n",
       "\n",
       "Country      Sweden  Switzerland  Thailand  USA  United Arab Emirates  \\\n",
       "InvoiceNo      1826         5191        76  826                   568   \n",
       "StockCode      1826         5191        76  826                   568   \n",
       "Description    1826         5191        76  826                   568   \n",
       "Quantity       1826         5191        76  826                   568   \n",
       "InvoiceDate    1826         5191        76  826                   568   \n",
       "UnitPrice      1826         5191        76  826                   568   \n",
       "CustomerID     1807         4941        76  826                   454   \n",
       "\n",
       "Country      United Kingdom  Unspecified  West Indies  \n",
       "InvoiceNo           1476808         1202           54  \n",
       "StockCode           1476808         1202           54  \n",
       "Description         1470972         1202           54  \n",
       "Quantity            1476808         1202           54  \n",
       "InvoiceDate         1476808         1202           54  \n",
       "UnitPrice           1476808         1202           54  \n",
       "CustomerID          1103179          768           54  \n",
       "\n",
       "[7 rows x 43 columns]"
      ]
     },
     "execution_count": 12,
     "metadata": {},
     "output_type": "execute_result"
    }
   ],
   "source": [
    "df.groupby('Country').count().T"
   ]
  },
  {
   "cell_type": "code",
   "execution_count": 13,
   "metadata": {},
   "outputs": [
    {
     "data": {
      "text/plain": [
       "[<matplotlib.lines.Line2D at 0x7fa86d4ff978>]"
      ]
     },
     "execution_count": 13,
     "metadata": {},
     "output_type": "execute_result"
    },
    {
     "data": {
      "image/png": "[encoded data removed]",
      "text/plain": [
       "<Figure size 432x288 with 1 Axes>"
      ]
     },
     "metadata": {
      "needs_background": "light"
     },
     "output_type": "display_data"
    }
   ],
   "source": [
    "plt.plot(df['Country'].value_counts().values)"
   ]
  },
  {
   "cell_type": "code",
   "execution_count": 14,
   "metadata": {},
   "outputs": [
    {
     "data": {
      "text/plain": [
       "United Kingdom          1476808\n",
       "Germany                   27119\n",
       "EIRE                      26062\n",
       "France                    22887\n",
       "Netherlands                7511\n",
       "Spain                      6344\n",
       "Belgium                    5192\n",
       "Switzerland                5191\n",
       "Portugal                   4139\n",
       "Australia                  3172\n",
       "Norway                     2541\n",
       "Channel Islands            2422\n",
       "Italy                      2337\n",
       "Sweden                     1826\n",
       "Cyprus                     1798\n",
       "Finland                    1744\n",
       "Austria                    1339\n",
       "Denmark                    1206\n",
       "Unspecified                1202\n",
       "Japan                       940\n",
       "Poland                      876\n",
       "USA                         826\n",
       "Greece                      809\n",
       "Israel                      668\n",
       "Hong Kong                   652\n",
       "Singapore                   575\n",
       "United Arab Emirates        568\n",
       "Iceland                     435\n",
       "Malta                       426\n",
       "Canada                      379\n",
       "RSA                         227\n",
       "Lithuania                   224\n",
       "Bahrain                     145\n",
       "Brazil                      126\n",
       "European Community          122\n",
       "Lebanon                     103\n",
       "Thailand                     76\n",
       "Korea                        63\n",
       "Czech Republic               60\n",
       "West Indies                  54\n",
       "Bermuda                      34\n",
       "Nigeria                      32\n",
       "Saudi Arabia                 20\n",
       "Name: Country, dtype: int64"
      ]
     },
     "execution_count": 14,
     "metadata": {},
     "output_type": "execute_result"
    }
   ],
   "source": [
    "df['Country'].value_counts()"
   ]
  },
  {
   "cell_type": "code",
   "execution_count": 15,
   "metadata": {},
   "outputs": [
    {
     "data": {
      "text/plain": [
       "'Datetime convertation started'"
      ]
     },
     "execution_count": 15,
     "metadata": {},
     "output_type": "execute_result"
    },
    {
     "data": {
      "text/plain": [
       "'Datetime convertation ended'"
      ]
     },
     "execution_count": 15,
     "metadata": {},
     "output_type": "execute_result"
    }
   ],
   "source": [
    "df['InvoiceDate'] = df['InvoiceDate'].apply(pd.to_datetime)"
   ]
  },
  {
   "cell_type": "code",
   "execution_count": 16,
   "metadata": {},
   "outputs": [
    {
     "data": {
      "text/plain": [
       "5704"
      ]
     },
     "execution_count": 16,
     "metadata": {},
     "output_type": "execute_result"
    }
   ],
   "source": [
    "df['Description'].nunique()"
   ]
  },
  {
   "cell_type": "code",
   "execution_count": 17,
   "metadata": {},
   "outputs": [
    {
     "data": {
      "text/plain": [
       "5674"
      ]
     },
     "execution_count": 17,
     "metadata": {},
     "output_type": "execute_result"
    }
   ],
   "source": [
    "df[df['Country'] == 'United Kingdom']['Description'].nunique()"
   ]
  },
  {
   "cell_type": "code",
   "execution_count": 18,
   "metadata": {},
   "outputs": [
    {
     "data": {
      "text/plain": [
       "0           8\n",
       "1           8\n",
       "2           8\n",
       "3           8\n",
       "4           8\n",
       "           ..\n",
       "1067350    12\n",
       "1067351    12\n",
       "1067352    12\n",
       "1067353    12\n",
       "1067354    12\n",
       "Name: InvoiceDate, Length: 1476808, dtype: int64"
      ]
     },
     "execution_count": 18,
     "metadata": {},
     "output_type": "execute_result"
    }
   ],
   "source": [
    "df[df['Country'] == 'United Kingdom']['InvoiceDate'].dt.hour"
   ]
  },
  {
   "cell_type": "code",
   "execution_count": 19,
   "metadata": {},
   "outputs": [
    {
     "data": {
      "text/plain": [
       "821"
      ]
     },
     "execution_count": 19,
     "metadata": {},
     "output_type": "execute_result"
    }
   ],
   "source": [
    "(df['InvoiceDate'].dt.hour * 60 + df['InvoiceDate'].dt.minute).nunique()"
   ]
  },
  {
   "cell_type": "code",
   "execution_count": 20,
   "metadata": {},
   "outputs": [],
   "source": [
    "df['minutes_from_daystart'] = df['InvoiceDate'].dt.hour * 60 + df['InvoiceDate'].dt.minute"
   ]
  },
  {
   "cell_type": "code",
   "execution_count": 21,
   "metadata": {},
   "outputs": [],
   "source": [
    "df['hour'] = df['InvoiceDate'].dt.hour"
   ]
  },
  {
   "cell_type": "code",
   "execution_count": 22,
   "metadata": {},
   "outputs": [
    {
     "data": {
      "text/html": [
       "<div>\n",
       "<style scoped>\n",
       "    .dataframe tbody tr th:only-of-type {\n",
       "        vertical-align: middle;\n",
       "    }\n",
       "\n",
       "    .dataframe tbody tr th {\n",
       "        vertical-align: top;\n",
       "    }\n",
       "\n",
       "    .dataframe thead th {\n",
       "        text-align: right;\n",
       "    }\n",
       "</style>\n",
       "<table border=\"1\" class=\"dataframe\">\n",
       "  <thead>\n",
       "    <tr style=\"text-align: right;\">\n",
       "      <th></th>\n",
       "      <th>InvoiceNo</th>\n",
       "      <th>StockCode</th>\n",
       "      <th>Description</th>\n",
       "      <th>Quantity</th>\n",
       "      <th>InvoiceDate</th>\n",
       "      <th>UnitPrice</th>\n",
       "      <th>CustomerID</th>\n",
       "      <th>Country</th>\n",
       "      <th>minutes_from_daystart</th>\n",
       "      <th>hour</th>\n",
       "    </tr>\n",
       "  </thead>\n",
       "  <tbody>\n",
       "    <tr>\n",
       "      <th>299983</th>\n",
       "      <td>A563186</td>\n",
       "      <td>B</td>\n",
       "      <td>Adjust bad debt</td>\n",
       "      <td>1</td>\n",
       "      <td>2011-08-12 14:51:00</td>\n",
       "      <td>-11062.06</td>\n",
       "      <td>NaN</td>\n",
       "      <td>United Kingdom</td>\n",
       "      <td>891</td>\n",
       "      <td>14</td>\n",
       "    </tr>\n",
       "    <tr>\n",
       "      <th>299984</th>\n",
       "      <td>A563187</td>\n",
       "      <td>B</td>\n",
       "      <td>Adjust bad debt</td>\n",
       "      <td>1</td>\n",
       "      <td>2011-08-12 14:52:00</td>\n",
       "      <td>-11062.06</td>\n",
       "      <td>NaN</td>\n",
       "      <td>United Kingdom</td>\n",
       "      <td>892</td>\n",
       "      <td>14</td>\n",
       "    </tr>\n",
       "    <tr>\n",
       "      <th>179403</th>\n",
       "      <td>A506401</td>\n",
       "      <td>B</td>\n",
       "      <td>Adjust bad debt</td>\n",
       "      <td>1</td>\n",
       "      <td>2010-04-29 13:36:00</td>\n",
       "      <td>-53594.36</td>\n",
       "      <td>NaN</td>\n",
       "      <td>United Kingdom</td>\n",
       "      <td>816</td>\n",
       "      <td>13</td>\n",
       "    </tr>\n",
       "    <tr>\n",
       "      <th>276274</th>\n",
       "      <td>A516228</td>\n",
       "      <td>B</td>\n",
       "      <td>Adjust bad debt</td>\n",
       "      <td>1</td>\n",
       "      <td>2010-07-19 11:24:00</td>\n",
       "      <td>-44031.79</td>\n",
       "      <td>NaN</td>\n",
       "      <td>United Kingdom</td>\n",
       "      <td>684</td>\n",
       "      <td>11</td>\n",
       "    </tr>\n",
       "    <tr>\n",
       "      <th>403472</th>\n",
       "      <td>A528059</td>\n",
       "      <td>B</td>\n",
       "      <td>Adjust bad debt</td>\n",
       "      <td>1</td>\n",
       "      <td>2010-10-20 12:04:00</td>\n",
       "      <td>-38925.87</td>\n",
       "      <td>NaN</td>\n",
       "      <td>United Kingdom</td>\n",
       "      <td>724</td>\n",
       "      <td>12</td>\n",
       "    </tr>\n",
       "    <tr>\n",
       "      <th>825444</th>\n",
       "      <td>A563186</td>\n",
       "      <td>B</td>\n",
       "      <td>Adjust bad debt</td>\n",
       "      <td>1</td>\n",
       "      <td>2011-08-12 14:51:00</td>\n",
       "      <td>-11062.06</td>\n",
       "      <td>NaN</td>\n",
       "      <td>United Kingdom</td>\n",
       "      <td>891</td>\n",
       "      <td>14</td>\n",
       "    </tr>\n",
       "    <tr>\n",
       "      <th>825445</th>\n",
       "      <td>A563187</td>\n",
       "      <td>B</td>\n",
       "      <td>Adjust bad debt</td>\n",
       "      <td>1</td>\n",
       "      <td>2011-08-12 14:52:00</td>\n",
       "      <td>-11062.06</td>\n",
       "      <td>NaN</td>\n",
       "      <td>United Kingdom</td>\n",
       "      <td>892</td>\n",
       "      <td>14</td>\n",
       "    </tr>\n",
       "  </tbody>\n",
       "</table>\n",
       "</div>"
      ],
      "text/plain": [
       "       InvoiceNo StockCode      Description  Quantity         InvoiceDate  \\\n",
       "299983   A563186         B  Adjust bad debt         1 2011-08-12 14:51:00   \n",
       "299984   A563187         B  Adjust bad debt         1 2011-08-12 14:52:00   \n",
       "179403   A506401         B  Adjust bad debt         1 2010-04-29 13:36:00   \n",
       "276274   A516228         B  Adjust bad debt         1 2010-07-19 11:24:00   \n",
       "403472   A528059         B  Adjust bad debt         1 2010-10-20 12:04:00   \n",
       "825444   A563186         B  Adjust bad debt         1 2011-08-12 14:51:00   \n",
       "825445   A563187         B  Adjust bad debt         1 2011-08-12 14:52:00   \n",
       "\n",
       "        UnitPrice  CustomerID         Country  minutes_from_daystart  hour  \n",
       "299983  -11062.06         NaN  United Kingdom                    891    14  \n",
       "299984  -11062.06         NaN  United Kingdom                    892    14  \n",
       "179403  -53594.36         NaN  United Kingdom                    816    13  \n",
       "276274  -44031.79         NaN  United Kingdom                    684    11  \n",
       "403472  -38925.87         NaN  United Kingdom                    724    12  \n",
       "825444  -11062.06         NaN  United Kingdom                    891    14  \n",
       "825445  -11062.06         NaN  United Kingdom                    892    14  "
      ]
     },
     "execution_count": 22,
     "metadata": {},
     "output_type": "execute_result"
    }
   ],
   "source": [
    "df[df['UnitPrice'] < 0]"
   ]
  },
  {
   "cell_type": "code",
   "execution_count": 23,
   "metadata": {},
   "outputs": [
    {
     "data": {
      "text/plain": [
       "[<matplotlib.lines.Line2D at 0x7fa83ce21c88>]"
      ]
     },
     "execution_count": 23,
     "metadata": {},
     "output_type": "execute_result"
    },
    {
     "data": {
      "image/png": "[encoded data removed]",
      "text/plain": [
       "<Figure size 432x288 with 1 Axes>"
      ]
     },
     "metadata": {
      "needs_background": "light"
     },
     "output_type": "display_data"
    }
   ],
   "source": [
    "plt.plot(df.groupby('minutes_from_daystart')['UnitPrice'].agg('sum').index, df.groupby('minutes_from_daystart')['UnitPrice'].agg('sum').values)"
   ]
  },
  {
   "cell_type": "code",
   "execution_count": 24,
   "metadata": {},
   "outputs": [
    {
     "data": {
      "text/plain": [
       "[<matplotlib.lines.Line2D at 0x7fa833122be0>]"
      ]
     },
     "execution_count": 24,
     "metadata": {},
     "output_type": "execute_result"
    },
    {
     "data": {
      "image/png": "[encoded data removed]",
      "text/plain": [
       "<Figure size 432x288 with 1 Axes>"
      ]
     },
     "metadata": {
      "needs_background": "light"
     },
     "output_type": "display_data"
    }
   ],
   "source": [
    "plt.plot(df.groupby('hour')['UnitPrice'].agg('sum'))"
   ]
  },
  {
   "cell_type": "code",
   "execution_count": 25,
   "metadata": {},
   "outputs": [],
   "source": [
    "df['sin_time'] = (df['minutes_from_daystart'] * (720 / np.pi)).apply(np.cos)\n",
    "df['cos_time'] = (df['minutes_from_daystart'] * (720 / np.pi)).apply(np.sin)"
   ]
  },
  {
   "cell_type": "code",
   "execution_count": 26,
   "metadata": {},
   "outputs": [
    {
     "data": {
      "text/plain": [
       "[<matplotlib.lines.Line2D at 0x7fa834fa6748>]"
      ]
     },
     "execution_count": 26,
     "metadata": {},
     "output_type": "execute_result"
    },
    {
     "data": {
      "image/png": "[encoded data removed]",
      "text/plain": [
       "<Figure size 432x288 with 1 Axes>"
      ]
     },
     "metadata": {
      "needs_background": "light"
     },
     "output_type": "display_data"
    }
   ],
   "source": [
    "plt.plot(*df[['cos_time', 'sin_time']].sample(700).values.T, 'bo', markersize=1)"
   ]
  },
  {
   "cell_type": "code",
   "execution_count": 27,
   "metadata": {},
   "outputs": [
    {
     "data": {
      "text/plain": [
       "141150"
      ]
     },
     "execution_count": 27,
     "metadata": {},
     "output_type": "execute_result"
    }
   ],
   "source": [
    "-len(df[(df['UnitPrice'] > 0) & (df['Country'] == 'United Kingdom')]) + len(df)"
   ]
  },
  {
   "cell_type": "code",
   "execution_count": 28,
   "metadata": {},
   "outputs": [
    {
     "data": {
      "text/plain": [
       "'df cuted'"
      ]
     },
     "execution_count": 28,
     "metadata": {},
     "output_type": "execute_result"
    }
   ],
   "source": [
    "df = df[(df['UnitPrice'] > 0) & (df['Country'] == 'United Kingdom')]"
   ]
  },
  {
   "cell_type": "code",
   "execution_count": 6,
   "metadata": {},
   "outputs": [],
   "source": [
    "import holidays"
   ]
  },
  {
   "cell_type": "code",
   "execution_count": 29,
   "metadata": {},
   "outputs": [],
   "source": [
    "uk_hd = holidays.UnitedKingdom()\n",
    "df['is_holiday'] = df['InvoiceDate'].apply(lambda x: x in uk_hd)\n",
    "df['is_holiday'] = df['is_holiday'].apply(int)"
   ]
  },
  {
   "cell_type": "code",
   "execution_count": 30,
   "metadata": {},
   "outputs": [],
   "source": [
    "min_date = min(df['InvoiceDate'])\n",
    "max_date = min(df['InvoiceDate'])\n",
    "df['time_from_start'] = ((df['InvoiceDate'] - min_date) / np.timedelta64(1, 'h')).astype(int)"
   ]
  },
  {
   "cell_type": "code",
   "execution_count": 32,
   "metadata": {},
   "outputs": [
    {
     "data": {
      "text/plain": [
       "'lr coefs are done'"
      ]
     },
     "execution_count": 32,
     "metadata": {},
     "output_type": "execute_result"
    }
   ],
   "source": [
    "dd = {}\n",
    "try:\n",
    "    for sc in df['StockCode'].unique():\n",
    "        mask = df['StockCode'] == sc\n",
    "        a, b = np.polyfit(df[mask]['time_from_start'].unique(), df[mask].groupby('time_from_start')['Quantity'].agg('sum'), 1)\n",
    "        dd[sc] = a, b\n",
    "except BaseException as e:"
   ]
  },
  {
   "cell_type": "code",
   "execution_count": 78,
   "metadata": {},
   "outputs": [],
   "source": [
    "df['lr_coef_1'] = df['StockCode'].map(dd)\n",
    "df['lr_coef_2'] = df['lr_coef_1'].apply(lambda x: x[1])\n",
    "df['lr_coef_1'] = df['lr_coef_1'].apply(lambda x: x[0])"
   ]
  },
  {
   "cell_type": "code",
   "execution_count": 79,
   "metadata": {},
   "outputs": [
    {
     "data": {
      "text/html": [
       "<div>\n",
       "<style scoped>\n",
       "    .dataframe tbody tr th:only-of-type {\n",
       "        vertical-align: middle;\n",
       "    }\n",
       "\n",
       "    .dataframe tbody tr th {\n",
       "        vertical-align: top;\n",
       "    }\n",
       "\n",
       "    .dataframe thead th {\n",
       "        text-align: right;\n",
       "    }\n",
       "</style>\n",
       "<table border=\"1\" class=\"dataframe\">\n",
       "  <thead>\n",
       "    <tr style=\"text-align: right;\">\n",
       "      <th></th>\n",
       "      <th>InvoiceNo</th>\n",
       "      <th>StockCode</th>\n",
       "      <th>Description</th>\n",
       "      <th>Quantity</th>\n",
       "      <th>InvoiceDate</th>\n",
       "      <th>UnitPrice</th>\n",
       "      <th>CustomerID</th>\n",
       "      <th>Country</th>\n",
       "      <th>minutes_from_daystart</th>\n",
       "      <th>hour</th>\n",
       "      <th>sin_time</th>\n",
       "      <th>cos_time</th>\n",
       "      <th>is_holiday</th>\n",
       "      <th>time_from_start</th>\n",
       "      <th>lr_coef_1</th>\n",
       "      <th>lr_coef_2</th>\n",
       "    </tr>\n",
       "  </thead>\n",
       "  <tbody>\n",
       "    <tr>\n",
       "      <th>0</th>\n",
       "      <td>536365</td>\n",
       "      <td>85123A</td>\n",
       "      <td>WHITE HANGING HEART T-LIGHT HOLDER</td>\n",
       "      <td>6</td>\n",
       "      <td>2010-12-01 08:26:00</td>\n",
       "      <td>2.55</td>\n",
       "      <td>17850.0</td>\n",
       "      <td>United Kingdom</td>\n",
       "      <td>506</td>\n",
       "      <td>8</td>\n",
       "      <td>-0.499207</td>\n",
       "      <td>-0.866483</td>\n",
       "      <td>0</td>\n",
       "      <td>8760</td>\n",
       "      <td>-0.001315</td>\n",
       "      <td>47.770775</td>\n",
       "    </tr>\n",
       "    <tr>\n",
       "      <th>1</th>\n",
       "      <td>536365</td>\n",
       "      <td>71053</td>\n",
       "      <td>WHITE METAL LANTERN</td>\n",
       "      <td>6</td>\n",
       "      <td>2010-12-01 08:26:00</td>\n",
       "      <td>3.39</td>\n",
       "      <td>17850.0</td>\n",
       "      <td>United Kingdom</td>\n",
       "      <td>506</td>\n",
       "      <td>8</td>\n",
       "      <td>-0.499207</td>\n",
       "      <td>-0.866483</td>\n",
       "      <td>0</td>\n",
       "      <td>8760</td>\n",
       "      <td>-0.000351</td>\n",
       "      <td>13.332533</td>\n",
       "    </tr>\n",
       "    <tr>\n",
       "      <th>2</th>\n",
       "      <td>536365</td>\n",
       "      <td>84406B</td>\n",
       "      <td>CREAM CUPID HEARTS COAT HANGER</td>\n",
       "      <td>8</td>\n",
       "      <td>2010-12-01 08:26:00</td>\n",
       "      <td>2.75</td>\n",
       "      <td>17850.0</td>\n",
       "      <td>United Kingdom</td>\n",
       "      <td>506</td>\n",
       "      <td>8</td>\n",
       "      <td>-0.499207</td>\n",
       "      <td>-0.866483</td>\n",
       "      <td>0</td>\n",
       "      <td>8760</td>\n",
       "      <td>-0.000137</td>\n",
       "      <td>10.794579</td>\n",
       "    </tr>\n",
       "    <tr>\n",
       "      <th>3</th>\n",
       "      <td>536365</td>\n",
       "      <td>84029G</td>\n",
       "      <td>KNITTED UNION FLAG HOT WATER BOTTLE</td>\n",
       "      <td>6</td>\n",
       "      <td>2010-12-01 08:26:00</td>\n",
       "      <td>3.39</td>\n",
       "      <td>17850.0</td>\n",
       "      <td>United Kingdom</td>\n",
       "      <td>506</td>\n",
       "      <td>8</td>\n",
       "      <td>-0.499207</td>\n",
       "      <td>-0.866483</td>\n",
       "      <td>0</td>\n",
       "      <td>8760</td>\n",
       "      <td>-0.001020</td>\n",
       "      <td>22.213174</td>\n",
       "    </tr>\n",
       "    <tr>\n",
       "      <th>4</th>\n",
       "      <td>536365</td>\n",
       "      <td>84029E</td>\n",
       "      <td>RED WOOLLY HOTTIE WHITE HEART.</td>\n",
       "      <td>6</td>\n",
       "      <td>2010-12-01 08:26:00</td>\n",
       "      <td>3.39</td>\n",
       "      <td>17850.0</td>\n",
       "      <td>United Kingdom</td>\n",
       "      <td>506</td>\n",
       "      <td>8</td>\n",
       "      <td>-0.499207</td>\n",
       "      <td>-0.866483</td>\n",
       "      <td>0</td>\n",
       "      <td>8760</td>\n",
       "      <td>-0.000886</td>\n",
       "      <td>25.560667</td>\n",
       "    </tr>\n",
       "  </tbody>\n",
       "</table>\n",
       "</div>"
      ],
      "text/plain": [
       "  InvoiceNo StockCode                          Description  Quantity  \\\n",
       "0    536365    85123A   WHITE HANGING HEART T-LIGHT HOLDER         6   \n",
       "1    536365     71053                  WHITE METAL LANTERN         6   \n",
       "2    536365    84406B       CREAM CUPID HEARTS COAT HANGER         8   \n",
       "3    536365    84029G  KNITTED UNION FLAG HOT WATER BOTTLE         6   \n",
       "4    536365    84029E       RED WOOLLY HOTTIE WHITE HEART.         6   \n",
       "\n",
       "          InvoiceDate  UnitPrice  CustomerID         Country  \\\n",
       "0 2010-12-01 08:26:00       2.55     17850.0  United Kingdom   \n",
       "1 2010-12-01 08:26:00       3.39     17850.0  United Kingdom   \n",
       "2 2010-12-01 08:26:00       2.75     17850.0  United Kingdom   \n",
       "3 2010-12-01 08:26:00       3.39     17850.0  United Kingdom   \n",
       "4 2010-12-01 08:26:00       3.39     17850.0  United Kingdom   \n",
       "\n",
       "   minutes_from_daystart  hour  sin_time  cos_time  is_holiday  \\\n",
       "0                    506     8 -0.499207 -0.866483           0   \n",
       "1                    506     8 -0.499207 -0.866483           0   \n",
       "2                    506     8 -0.499207 -0.866483           0   \n",
       "3                    506     8 -0.499207 -0.866483           0   \n",
       "4                    506     8 -0.499207 -0.866483           0   \n",
       "\n",
       "   time_from_start  lr_coef_1  lr_coef_2  \n",
       "0             8760  -0.001315  47.770775  \n",
       "1             8760  -0.000351  13.332533  \n",
       "2             8760  -0.000137  10.794579  \n",
       "3             8760  -0.001020  22.213174  \n",
       "4             8760  -0.000886  25.560667  "
      ]
     },
     "execution_count": 79,
     "metadata": {},
     "output_type": "execute_result"
    }
   ],
   "source": [
    "df.head()"
   ]
  },
  {
   "cell_type": "code",
   "execution_count": 159,
   "metadata": {},
   "outputs": [],
   "source": [
    "df.reset_index(inplace=True)"
   ]
  },
  {
   "cell_type": "code",
   "execution_count": 175,
   "metadata": {},
   "outputs": [],
   "source": [
    "uk_hd_np = np.array(list(map(lambda x: np.datetime64(x) + np.timedelta64(12, 'h'), uk_hd.keys())))\n",
    "uk_hd_keyslist = list(uk_hd.keys())\n",
    "def get_nearest_hday(v):\n",
    "    return np.float64(\n",
    "        np.datetime64(\n",
    "            uk_hd_keyslist[\n",
    "                np.argmin(\n",
    "                    np.abs(\n",
    "                        uk_hd_np - v\n",
    "                    )\n",
    "                )\n",
    "            ]\n",
    "        ) - v\n",
    "    ) / (\n",
    "        24 * 60 * 60  # seconds to days\n",
    "    )"
   ]
  },
  {
   "cell_type": "code",
   "execution_count": 176,
   "metadata": {},
   "outputs": [
    {
     "data": {
      "text/plain": [
       "'Holidays deltas are done!'"
      ]
     },
     "execution_count": 176,
     "metadata": {},
     "output_type": "execute_result"
    }
   ],
   "source": [
    "dt_64 = df['InvoiceDate'].apply(lambda x: np.datetime64(x, 's')).values\n",
    "df['nearest_hday_timedelta'] = list(map(get_nearest_hday, dt_64))"
   ]
  },
  {
   "cell_type": "code",
   "execution_count": 177,
   "metadata": {},
   "outputs": [
    {
     "data": {
      "image/png": "[encoded data removed]",
      "text/plain": [
       "<Figure size 432x288 with 1 Axes>"
      ]
     },
     "metadata": {
      "needs_background": "light"
     },
     "output_type": "display_data"
    }
   ],
   "source": [
    "_ = plt.hist(df['nearest_hday_timedelta'], bins=100)"
   ]
  },
  {
   "cell_type": "code",
   "execution_count": 179,
   "metadata": {},
   "outputs": [],
   "source": [
    "df = df[['InvoiceNo', 'StockCode', 'Description', 'Quantity',\n",
    "         'InvoiceDate', 'UnitPrice', 'CustomerID',\n",
    "         'minutes_from_daystart', 'hour', 'sin_time', 'cos_time', 'is_holiday',\n",
    "         'time_from_start', 'lr_coef_1', 'lr_coef_2', 'nearest_hday_timedelta']]\n",
    "df.to_csv('../data/cuted_df.csv', index=False)"
   ]
  },
  {
   "cell_type": "code",
   "execution_count": 8,
   "metadata": {},
   "outputs": [],
   "source": [
    "df = pd.read_csv(data_dir + 'cuted_df.csv')"
   ]
  },
  {
   "cell_type": "code",
   "execution_count": 9,
   "metadata": {},
   "outputs": [
    {
     "data": {
      "text/html": [
       "<div>\n",
       "<style scoped>\n",
       "    .dataframe tbody tr th:only-of-type {\n",
       "        vertical-align: middle;\n",
       "    }\n",
       "\n",
       "    .dataframe tbody tr th {\n",
       "        vertical-align: top;\n",
       "    }\n",
       "\n",
       "    .dataframe thead th {\n",
       "        text-align: right;\n",
       "    }\n",
       "</style>\n",
       "<table border=\"1\" class=\"dataframe\">\n",
       "  <thead>\n",
       "    <tr style=\"text-align: right;\">\n",
       "      <th></th>\n",
       "      <th>InvoiceNo</th>\n",
       "      <th>StockCode</th>\n",
       "      <th>Description</th>\n",
       "      <th>Quantity</th>\n",
       "      <th>InvoiceDate</th>\n",
       "      <th>UnitPrice</th>\n",
       "      <th>CustomerID</th>\n",
       "      <th>minutes_from_daystart</th>\n",
       "      <th>hour</th>\n",
       "      <th>sin_time</th>\n",
       "      <th>cos_time</th>\n",
       "      <th>is_holiday</th>\n",
       "      <th>time_from_start</th>\n",
       "      <th>lr_coef_1</th>\n",
       "      <th>lr_coef_2</th>\n",
       "      <th>nearest_hday_timedelta</th>\n",
       "    </tr>\n",
       "  </thead>\n",
       "  <tbody>\n",
       "    <tr>\n",
       "      <th>0</th>\n",
       "      <td>536365</td>\n",
       "      <td>85123A</td>\n",
       "      <td>WHITE HANGING HEART T-LIGHT HOLDER</td>\n",
       "      <td>6</td>\n",
       "      <td>2010-12-01 08:26:00</td>\n",
       "      <td>2.55</td>\n",
       "      <td>17850.0</td>\n",
       "      <td>506</td>\n",
       "      <td>8</td>\n",
       "      <td>-0.499207</td>\n",
       "      <td>-0.866483</td>\n",
       "      <td>0</td>\n",
       "      <td>8760</td>\n",
       "      <td>-0.001315</td>\n",
       "      <td>47.770775</td>\n",
       "      <td>-1.351389e+09</td>\n",
       "    </tr>\n",
       "    <tr>\n",
       "      <th>1</th>\n",
       "      <td>536365</td>\n",
       "      <td>71053</td>\n",
       "      <td>WHITE METAL LANTERN</td>\n",
       "      <td>6</td>\n",
       "      <td>2010-12-01 08:26:00</td>\n",
       "      <td>3.39</td>\n",
       "      <td>17850.0</td>\n",
       "      <td>506</td>\n",
       "      <td>8</td>\n",
       "      <td>-0.499207</td>\n",
       "      <td>-0.866483</td>\n",
       "      <td>0</td>\n",
       "      <td>8760</td>\n",
       "      <td>-0.000351</td>\n",
       "      <td>13.332533</td>\n",
       "      <td>-1.351389e+09</td>\n",
       "    </tr>\n",
       "    <tr>\n",
       "      <th>2</th>\n",
       "      <td>536365</td>\n",
       "      <td>84406B</td>\n",
       "      <td>CREAM CUPID HEARTS COAT HANGER</td>\n",
       "      <td>8</td>\n",
       "      <td>2010-12-01 08:26:00</td>\n",
       "      <td>2.75</td>\n",
       "      <td>17850.0</td>\n",
       "      <td>506</td>\n",
       "      <td>8</td>\n",
       "      <td>-0.499207</td>\n",
       "      <td>-0.866483</td>\n",
       "      <td>0</td>\n",
       "      <td>8760</td>\n",
       "      <td>-0.000137</td>\n",
       "      <td>10.794579</td>\n",
       "      <td>-1.351389e+09</td>\n",
       "    </tr>\n",
       "    <tr>\n",
       "      <th>3</th>\n",
       "      <td>536365</td>\n",
       "      <td>84029G</td>\n",
       "      <td>KNITTED UNION FLAG HOT WATER BOTTLE</td>\n",
       "      <td>6</td>\n",
       "      <td>2010-12-01 08:26:00</td>\n",
       "      <td>3.39</td>\n",
       "      <td>17850.0</td>\n",
       "      <td>506</td>\n",
       "      <td>8</td>\n",
       "      <td>-0.499207</td>\n",
       "      <td>-0.866483</td>\n",
       "      <td>0</td>\n",
       "      <td>8760</td>\n",
       "      <td>-0.001020</td>\n",
       "      <td>22.213174</td>\n",
       "      <td>-1.351389e+09</td>\n",
       "    </tr>\n",
       "    <tr>\n",
       "      <th>4</th>\n",
       "      <td>536365</td>\n",
       "      <td>84029E</td>\n",
       "      <td>RED WOOLLY HOTTIE WHITE HEART.</td>\n",
       "      <td>6</td>\n",
       "      <td>2010-12-01 08:26:00</td>\n",
       "      <td>3.39</td>\n",
       "      <td>17850.0</td>\n",
       "      <td>506</td>\n",
       "      <td>8</td>\n",
       "      <td>-0.499207</td>\n",
       "      <td>-0.866483</td>\n",
       "      <td>0</td>\n",
       "      <td>8760</td>\n",
       "      <td>-0.000886</td>\n",
       "      <td>25.560667</td>\n",
       "      <td>-1.351389e+09</td>\n",
       "    </tr>\n",
       "  </tbody>\n",
       "</table>\n",
       "</div>"
      ],
      "text/plain": [
       "  InvoiceNo StockCode                          Description  Quantity  \\\n",
       "0    536365    85123A   WHITE HANGING HEART T-LIGHT HOLDER         6   \n",
       "1    536365     71053                  WHITE METAL LANTERN         6   \n",
       "2    536365    84406B       CREAM CUPID HEARTS COAT HANGER         8   \n",
       "3    536365    84029G  KNITTED UNION FLAG HOT WATER BOTTLE         6   \n",
       "4    536365    84029E       RED WOOLLY HOTTIE WHITE HEART.         6   \n",
       "\n",
       "           InvoiceDate  UnitPrice  CustomerID  minutes_from_daystart  hour  \\\n",
       "0  2010-12-01 08:26:00       2.55     17850.0                    506     8   \n",
       "1  2010-12-01 08:26:00       3.39     17850.0                    506     8   \n",
       "2  2010-12-01 08:26:00       2.75     17850.0                    506     8   \n",
       "3  2010-12-01 08:26:00       3.39     17850.0                    506     8   \n",
       "4  2010-12-01 08:26:00       3.39     17850.0                    506     8   \n",
       "\n",
       "   sin_time  cos_time  is_holiday  time_from_start  lr_coef_1  lr_coef_2  \\\n",
       "0 -0.499207 -0.866483           0             8760  -0.001315  47.770775   \n",
       "1 -0.499207 -0.866483           0             8760  -0.000351  13.332533   \n",
       "2 -0.499207 -0.866483           0             8760  -0.000137  10.794579   \n",
       "3 -0.499207 -0.866483           0             8760  -0.001020  22.213174   \n",
       "4 -0.499207 -0.866483           0             8760  -0.000886  25.560667   \n",
       "\n",
       "   nearest_hday_timedelta  \n",
       "0           -1.351389e+09  \n",
       "1           -1.351389e+09  \n",
       "2           -1.351389e+09  \n",
       "3           -1.351389e+09  \n",
       "4           -1.351389e+09  "
      ]
     },
     "execution_count": 9,
     "metadata": {},
     "output_type": "execute_result"
    }
   ],
   "source": [
    "df.head()"
   ]
  }
 ],
 "metadata": {
  "kernelspec": {
   "display_name": "Python 3",
   "language": "python",
   "name": "python3"
  },
  "language_info": {
   "codemirror_mode": {
    "name": "ipython",
    "version": 3
   },
   "file_extension": ".py",
   "mimetype": "text/x-python",
   "name": "python",
   "nbconvert_exporter": "python",
   "pygments_lexer": "ipython3",
   "version": "3.7.6"
  }
 },
 "nbformat": 4,
 "nbformat_minor": 4
}
